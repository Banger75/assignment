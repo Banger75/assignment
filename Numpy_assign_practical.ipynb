{
  "nbformat": 4,
  "nbformat_minor": 0,
  "metadata": {
    "colab": {
      "provenance": [],
      "authorship_tag": "ABX9TyOVgUcChjUwmSXdhjBvAFSv"
    },
    "kernelspec": {
      "name": "python3",
      "display_name": "Python 3"
    },
    "language_info": {
      "name": "python"
    }
  },
  "cells": [
    {
      "cell_type": "markdown",
      "source": [
        "Q 1. Create a 3x3 NumPy array with random integers between 1 and 100. Then, interchange its rows and columns.\n",
        "\n"
      ],
      "metadata": {
        "id": "s8oWPusYaAuO"
      }
    },
    {
      "cell_type": "code",
      "execution_count": 1,
      "metadata": {
        "colab": {
          "base_uri": "https://localhost:8080/"
        },
        "id": "Nu3bGEELZ3h9",
        "outputId": "00582900-efe7-4642-a4fb-85f5e3b4b95e"
      },
      "outputs": [
        {
          "output_type": "stream",
          "name": "stdout",
          "text": [
            "Original Array:\n",
            "[[99 55 56]\n",
            " [ 5 21 69]\n",
            " [86 58 71]]\n",
            "\n",
            "Transposed Array:\n",
            "[[99  5 86]\n",
            " [55 21 58]\n",
            " [56 69 71]]\n"
          ]
        }
      ],
      "source": [
        "import numpy as np\n",
        "\n",
        "# Create a 3x3 array with random integers between 1 and 100\n",
        "array = np.random.randint(1, 101, size=(3, 3))\n",
        "print(\"Original Array:\")\n",
        "print(array)\n",
        "\n",
        "# Interchange rows and columns (transpose the array)\n",
        "transposed_array = array.T\n",
        "print(\"\\nTransposed Array:\")\n",
        "print(transposed_array)"
      ]
    },
    {
      "cell_type": "markdown",
      "source": [
        "Q 2. Generate a 1D NumPy array with 10 elements. Reshape it into a 2x5 array, then into a 5x2 array.\n",
        "\n"
      ],
      "metadata": {
        "id": "jhxjiNamsgvj"
      }
    },
    {
      "cell_type": "code",
      "source": [
        "import numpy as np\n",
        "\n",
        "# Generate a 1D array with 10 elements (for example, from 1 to 10)\n",
        "array_1d = np.arange(1, 11)\n",
        "print(\"1D Array:\")\n",
        "print(array_1d)\n",
        "\n",
        "# Reshape the array into a 2x5 array\n",
        "array_2x5 = array_1d.reshape(2, 5)\n",
        "print(\"\\nReshaped to 2x5 Array:\")\n",
        "print(array_2x5)\n",
        "\n",
        "# Reshape the array into a 5x2 array\n",
        "array_5x2 = array_1d.reshape(5, 2)\n",
        "print(\"\\nReshaped to 5x2 Array:\")\n",
        "print(array_5x2)"
      ],
      "metadata": {
        "colab": {
          "base_uri": "https://localhost:8080/"
        },
        "id": "4o2IzoBTaUm2",
        "outputId": "553213da-08a7-4504-8f73-032fec634f55"
      },
      "execution_count": 2,
      "outputs": [
        {
          "output_type": "stream",
          "name": "stdout",
          "text": [
            "1D Array:\n",
            "[ 1  2  3  4  5  6  7  8  9 10]\n",
            "\n",
            "Reshaped to 2x5 Array:\n",
            "[[ 1  2  3  4  5]\n",
            " [ 6  7  8  9 10]]\n",
            "\n",
            "Reshaped to 5x2 Array:\n",
            "[[ 1  2]\n",
            " [ 3  4]\n",
            " [ 5  6]\n",
            " [ 7  8]\n",
            " [ 9 10]]\n"
          ]
        }
      ]
    },
    {
      "cell_type": "markdown",
      "source": [
        "Q 3. Create a 4x4 NumPy array with random float values. Add a border of zeros around it, resulting in a 6x6 array.\n",
        "\n"
      ],
      "metadata": {
        "id": "VoCpIN_WsznF"
      }
    },
    {
      "cell_type": "code",
      "source": [
        "import numpy as np\n",
        "\n",
        "# Create a 4x4 array with random float values\n",
        "array_4x4 = np.random.rand(4, 4)\n",
        "print(\"Original 4x4 Array:\")\n",
        "print(array_4x4)\n",
        "\n",
        "# Add a border of zeros to create a 6x6 array\n",
        "array_6x6 = np.pad(array_4x4, pad_width=1, mode='constant', constant_values=0)\n",
        "print(\"\\n6x6 Array with Zero Border:\")\n",
        "print(array_6x6)\n"
      ],
      "metadata": {
        "colab": {
          "base_uri": "https://localhost:8080/"
        },
        "id": "u0YqtRXWsubb",
        "outputId": "2d159afd-c493-4272-fdc3-c87e09edeefd"
      },
      "execution_count": 3,
      "outputs": [
        {
          "output_type": "stream",
          "name": "stdout",
          "text": [
            "Original 4x4 Array:\n",
            "[[0.36532453 0.82119551 0.68251371 0.75051417]\n",
            " [0.35223521 0.99186035 0.48565551 0.81942248]\n",
            " [0.71631324 0.86960913 0.5868079  0.95094045]\n",
            " [0.99495576 0.77737228 0.51892779 0.55403543]]\n",
            "\n",
            "6x6 Array with Zero Border:\n",
            "[[0.         0.         0.         0.         0.         0.        ]\n",
            " [0.         0.36532453 0.82119551 0.68251371 0.75051417 0.        ]\n",
            " [0.         0.35223521 0.99186035 0.48565551 0.81942248 0.        ]\n",
            " [0.         0.71631324 0.86960913 0.5868079  0.95094045 0.        ]\n",
            " [0.         0.99495576 0.77737228 0.51892779 0.55403543 0.        ]\n",
            " [0.         0.         0.         0.         0.         0.        ]]\n"
          ]
        }
      ]
    },
    {
      "cell_type": "markdown",
      "source": [
        "Q 4. Using NumPy, create an array of integers from 10 to 60 with a step of 5."
      ],
      "metadata": {
        "id": "jZOfWvkrtKez"
      }
    },
    {
      "cell_type": "code",
      "source": [
        "import numpy as np\n",
        "\n",
        "# Create an array from 10 to 60 with a step of 5\n",
        "array = np.arange(10, 65, 5)\n",
        "print(\"Array from 10 to 60 with step 5:\")\n",
        "print(array)"
      ],
      "metadata": {
        "colab": {
          "base_uri": "https://localhost:8080/"
        },
        "id": "czfbiRq3s-nh",
        "outputId": "245e56ab-fb6f-4a5f-8253-2feb4f71ab5f"
      },
      "execution_count": 4,
      "outputs": [
        {
          "output_type": "stream",
          "name": "stdout",
          "text": [
            "Array from 10 to 60 with step 5:\n",
            "[10 15 20 25 30 35 40 45 50 55 60]\n"
          ]
        }
      ]
    },
    {
      "cell_type": "markdown",
      "source": [
        "Q 5. Create a NumPy array of strings ['python', 'numpy', 'pandas']. Apply different case transformations\n",
        "(uppercase, lowercase, title case, etc.) to each element.\n",
        "\n"
      ],
      "metadata": {
        "id": "bpLG-KsGtV1a"
      }
    },
    {
      "cell_type": "code",
      "source": [
        "import numpy as np\n",
        "\n",
        "# Create a NumPy array of strings\n",
        "array = np.array(['python', 'numpy', 'pandas'])\n",
        "\n",
        "# Apply uppercase transformation\n",
        "uppercase_array = np.char.upper(array)\n",
        "print(\"Uppercase:\")\n",
        "print(uppercase_array)\n",
        "\n",
        "# Apply lowercase transformation\n",
        "lowercase_array = np.char.lower(array)\n",
        "print(\"\\nLowercase:\")\n",
        "print(lowercase_array)\n",
        "\n",
        "# Apply title case transformation\n",
        "titlecase_array = np.char.title(array)\n",
        "print(\"\\nTitle Case:\")\n",
        "print(titlecase_array)"
      ],
      "metadata": {
        "colab": {
          "base_uri": "https://localhost:8080/"
        },
        "id": "pG8QB5yCtPl1",
        "outputId": "42c986e0-35d6-4755-869e-787fba1f030c"
      },
      "execution_count": 5,
      "outputs": [
        {
          "output_type": "stream",
          "name": "stdout",
          "text": [
            "Uppercase:\n",
            "['PYTHON' 'NUMPY' 'PANDAS']\n",
            "\n",
            "Lowercase:\n",
            "['python' 'numpy' 'pandas']\n",
            "\n",
            "Title Case:\n",
            "['Python' 'Numpy' 'Pandas']\n"
          ]
        }
      ]
    },
    {
      "cell_type": "markdown",
      "source": [
        "Q 6. Generate a NumPy array of words. Insert a space between each character of every word in the array.\n",
        "\n"
      ],
      "metadata": {
        "id": "5DR3kKO0tdgl"
      }
    },
    {
      "cell_type": "code",
      "source": [
        "import numpy as np\n",
        "\n",
        "# Create a NumPy array of words\n",
        "words_array = np.array(['python', 'numpy', 'pandas'])\n",
        "\n",
        "# Insert a space between each character of every word\n",
        "spaced_words_array = np.char.join(' ', words_array)\n",
        "print(\"Words with spaces between characters:\")\n",
        "print(spaced_words_array)"
      ],
      "metadata": {
        "colab": {
          "base_uri": "https://localhost:8080/"
        },
        "id": "YkcBcMvEtcO9",
        "outputId": "d70dec11-f817-4620-cf98-84aa6ff00969"
      },
      "execution_count": 6,
      "outputs": [
        {
          "output_type": "stream",
          "name": "stdout",
          "text": [
            "Words with spaces between characters:\n",
            "['p y t h o n' 'n u m p y' 'p a n d a s']\n"
          ]
        }
      ]
    },
    {
      "cell_type": "markdown",
      "source": [
        "Q 7. Create two 2D NumPy arrays and perform element-wise addition, subtraction, multiplication, and division.\n",
        "\n"
      ],
      "metadata": {
        "id": "HT6KOs6Et5WZ"
      }
    },
    {
      "cell_type": "code",
      "source": [
        "import numpy as np\n",
        "\n",
        "# Create two 2D NumPy arrays\n",
        "array1 = np.array([[1, 2, 3], [4, 5, 6]])\n",
        "array2 = np.array([[7, 8, 9], [10, 11, 12]])\n",
        "\n",
        "print(\"Array 1:\")\n",
        "print(array1)\n",
        "\n",
        "print(\"\\nArray 2:\")\n",
        "print(array2)\n",
        "\n",
        "# Element-wise addition\n",
        "addition = array1 + array2\n",
        "print(\"\\nElement-wise Addition:\")\n",
        "print(addition)\n",
        "\n",
        "# Element-wise subtraction\n",
        "subtraction = array1 - array2\n",
        "print(\"\\nElement-wise Subtraction:\")\n",
        "print(subtraction)\n",
        "\n",
        "# Element-wise multiplication\n",
        "multiplication = array1 * array2\n",
        "print(\"\\nElement-wise Multiplication:\")\n",
        "print(multiplication)\n",
        "\n",
        "# Element-wise division\n",
        "division = array1 / array2\n",
        "print(\"\\nElement-wise Division:\")\n",
        "print(division)"
      ],
      "metadata": {
        "colab": {
          "base_uri": "https://localhost:8080/"
        },
        "id": "Lnz9YqagtyUy",
        "outputId": "75f82280-979c-42c2-8d89-c0e1adf4a64d"
      },
      "execution_count": 7,
      "outputs": [
        {
          "output_type": "stream",
          "name": "stdout",
          "text": [
            "Array 1:\n",
            "[[1 2 3]\n",
            " [4 5 6]]\n",
            "\n",
            "Array 2:\n",
            "[[ 7  8  9]\n",
            " [10 11 12]]\n",
            "\n",
            "Element-wise Addition:\n",
            "[[ 8 10 12]\n",
            " [14 16 18]]\n",
            "\n",
            "Element-wise Subtraction:\n",
            "[[-6 -6 -6]\n",
            " [-6 -6 -6]]\n",
            "\n",
            "Element-wise Multiplication:\n",
            "[[ 7 16 27]\n",
            " [40 55 72]]\n",
            "\n",
            "Element-wise Division:\n",
            "[[0.14285714 0.25       0.33333333]\n",
            " [0.4        0.45454545 0.5       ]]\n"
          ]
        }
      ]
    },
    {
      "cell_type": "markdown",
      "source": [
        "Q 8. Use NumPy to create a 5x5 identity matrix, then extract its diagonal elements.\n",
        "\n"
      ],
      "metadata": {
        "id": "EvrJaPmzuIAv"
      }
    },
    {
      "cell_type": "code",
      "source": [
        "import numpy as np\n",
        "\n",
        "# Create a 5x5 identity matrix\n",
        "identity_matrix = np.eye(5)\n",
        "print(\"5x5 Identity Matrix:\")\n",
        "print(identity_matrix)\n",
        "\n",
        "# Extract the diagonal elements\n",
        "diagonal_elements = np.diag(identity_matrix)\n",
        "print(\"\\nDiagonal Elements:\")\n",
        "print(diagonal_elements)"
      ],
      "metadata": {
        "colab": {
          "base_uri": "https://localhost:8080/"
        },
        "id": "BWMoFF8FuB6A",
        "outputId": "3711960b-c2ac-448a-f81c-d3d30c27f9d7"
      },
      "execution_count": 8,
      "outputs": [
        {
          "output_type": "stream",
          "name": "stdout",
          "text": [
            "5x5 Identity Matrix:\n",
            "[[1. 0. 0. 0. 0.]\n",
            " [0. 1. 0. 0. 0.]\n",
            " [0. 0. 1. 0. 0.]\n",
            " [0. 0. 0. 1. 0.]\n",
            " [0. 0. 0. 0. 1.]]\n",
            "\n",
            "Diagonal Elements:\n",
            "[1. 1. 1. 1. 1.]\n"
          ]
        }
      ]
    },
    {
      "cell_type": "markdown",
      "source": [
        "Q 9. Generate a NumPy array of 100 random integers between 0 and 1000. Find and display all prime numbers in\n",
        "this array.\n",
        "\n"
      ],
      "metadata": {
        "id": "cWopLHZwuVNZ"
      }
    },
    {
      "cell_type": "code",
      "source": [
        "import numpy as np\n",
        "\n",
        "# Function to check if a number is prime\n",
        "def is_prime(num):\n",
        "    if num < 2:\n",
        "        return False\n",
        "    for i in range(2, int(np.sqrt(num)) + 1):\n",
        "        if num % i == 0:\n",
        "            return False\n",
        "    return True\n",
        "\n",
        "# Generate an array of 100 random integers between 0 and 1000\n",
        "random_array = np.random.randint(0, 1000, 100)\n",
        "print(\"Random Array:\")\n",
        "print(random_array)\n",
        "\n",
        "# Find prime numbers in the array\n",
        "prime_numbers = np.array([num for num in random_array if is_prime(num)])\n",
        "print(\"\\nPrime Numbers in the Array:\")\n",
        "print(prime_numbers)"
      ],
      "metadata": {
        "colab": {
          "base_uri": "https://localhost:8080/"
        },
        "id": "QDgY07AJuUDu",
        "outputId": "5668c761-0dcf-40ae-9fbe-a4e2422ee83f"
      },
      "execution_count": 9,
      "outputs": [
        {
          "output_type": "stream",
          "name": "stdout",
          "text": [
            "Random Array:\n",
            "[610 778 855 523 240 340 259 653 206 231  72 168 276 985 243 989 626 970\n",
            " 770 713 564 851 382 648 349 567 907 781 809 729 756 924 711 339 157 615\n",
            " 268 273 388 943 722 100 513 350  76 152 722 584 798 800 369 108 719 830\n",
            " 716 311 462  10 336 993 155 163 917 216 528 359  21  50 191 353 880 990\n",
            " 181 326 120 156 218  86 444 105 348 644 191 687 875 560  42  58 788 758\n",
            " 715 400 424 100   5 104 522 914 572 744]\n",
            "\n",
            "Prime Numbers in the Array:\n",
            "[523 653 349 907 809 157 719 311 163 359 191 353 181 191   5]\n"
          ]
        }
      ]
    },
    {
      "cell_type": "markdown",
      "source": [
        "Q 10. Create a NumPy array representing daily temperatures for a month. Calculate and display the weekly\n",
        "averages.\n"
      ],
      "metadata": {
        "id": "qrpxumnBumyL"
      }
    },
    {
      "cell_type": "code",
      "source": [
        "# Correcting the calculation of weekly averages\n",
        "# Generate random temperatures for a month (30 days)\n",
        "daily_temperatures = np.random.uniform(low=15, high=30, size=30)\n",
        "\n",
        "# Calculate weekly averages for the first 28 days (4 weeks)\n",
        "weekly_averages = daily_temperatures[:28].reshape(-1, 7).mean(axis=1)\n",
        "\n",
        "daily_temperatures, weekly_averages"
      ],
      "metadata": {
        "colab": {
          "base_uri": "https://localhost:8080/"
        },
        "id": "wtHp51knuijm",
        "outputId": "c2770522-5b78-40ec-8c5a-53b7c6e30e80"
      },
      "execution_count": 12,
      "outputs": [
        {
          "output_type": "execute_result",
          "data": {
            "text/plain": [
              "(array([18.96833418, 26.61350534, 21.84225498, 23.52650923, 15.28184701,\n",
              "        24.26453246, 24.18143584, 24.25400995, 29.15622118, 25.22730449,\n",
              "        20.39261851, 21.55547931, 25.46446794, 15.90338207, 25.00150073,\n",
              "        25.05956804, 18.15573842, 16.93389446, 19.73142526, 20.45566156,\n",
              "        23.55295156, 21.5790227 , 29.82560757, 16.53067216, 18.13315134,\n",
              "        17.41964277, 24.79662488, 18.79937404, 21.99466159, 18.66638388]),\n",
              " array([22.09691701, 23.13621192, 21.27010572, 21.01201364]))"
            ]
          },
          "metadata": {},
          "execution_count": 12
        }
      ]
    }
  ]
}