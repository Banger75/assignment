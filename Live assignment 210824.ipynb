{
 "cells": [
  {
   "cell_type": "markdown",
   "id": "e4eafc5c-344c-4edb-b589-8c0b63e829c9",
   "metadata": {},
   "source": [
    "#### Q 1:- Explain the key features of python that make it a popular choice of programmmers.\n"
   ]
  },
  {
   "cell_type": "markdown",
   "id": "62bebf64-91ef-428d-8380-7a53642fc03f",
   "metadata": {},
   "source": [
    "#### Answer :- Python is a popular programming language for a variety of reasons. Here are somekey features that contribute to its widespread use"
   ]
  },
  {
   "cell_type": "markdown",
   "id": "a29bcf2f-a65b-47bb-9b7d-2736f08f5835",
   "metadata": {},
   "source": [
    "#### 1. Simple and Readable Syntax\n",
    "##### Python’s syntax is designed to be clean andeasy to understand. It emphasizes readability and reduces the cost of programmaintenance. For example, Python uses indentation to define code blocksinstead of braces or keywords, which makes the code more visually organized."
   ]
  },
  {
   "cell_type": "markdown",
   "id": "730de369-d9a3-4955-8097-bccfa160d490",
   "metadata": {},
   "source": [
    "#### 2. Versatile and Powerful\n",
    "##### Python is a general-purpose language that supportsmultiple programming paradigms, including procedural, object-oriented, andfunctional programming. This versatility makes it suitable for a wide range ofapplications, from web development to data analysis and scientific computing."
   ]
  },
  {
   "cell_type": "markdown",
   "id": "f603d66e-8ef0-4dbc-baec-f563b9917f8f",
   "metadata": {},
   "source": [
    "#### 3. Extensive Standard Library\n",
    "##### Python comes with a large standard library thatprovides modules and functions for a variety of tasks, including file I/O, systemcalls, and internet protocols. This library reduces the need for external librariesand speeds up development."
   ]
  },
  {
   "cell_type": "markdown",
   "id": "abdc1bbe-d7c8-4964-a74e-1dbe7dca6761",
   "metadata": {},
   "source": [
    "#### 4. Dynamic Typing\n",
    "##### Python uses dynamic typing, which means that you don’tneed to declare the type of a variable when you create it. This can makedevelopment faster and more flexible, although it requires careful managementto avoid runtime errors."
   ]
  },
  {
   "cell_type": "markdown",
   "id": "fc44d43c-711d-42ee-8fd5-8a171c2ca5e7",
   "metadata": {},
   "source": [
    "#### 5. Interpreted Language\n",
    "##### Python is an interpreted language, meaning that codeis executed line by line. This allows for quick testing and debugging, as youdon’t need to compile your code before running it."
   ]
  },
  {
   "cell_type": "markdown",
   "id": "77e6b536-f257-4fd2-8e06-c30bd60e5e70",
   "metadata": {},
   "source": [
    "#### 6. Extensive Third-Party Libraries and Frameworks\n",
    "##### Python has a richecosystem of third-party libraries and frameworks that extend its capabilities.Popular libraries include NumPy and pandas for data analysis, TensorFlow andPyTorch for machine learning, and Django and Flask for web development."
   ]
  },
  {
   "cell_type": "markdown",
   "id": "1398b6f4-332c-4aae-a0c9-92f317b013e4",
   "metadata": {},
   "source": [
    "#### 7. Cross-Platform Compatibility\n",
    "##### Python is cross-platform, which means it runson various operating systems like Windows, macOS, and Linux withoutrequiring changes to the codebase. This broad compatibility makes it apractical choice for developing cross-platform applications"
   ]
  },
  {
   "cell_type": "markdown",
   "id": "61727bfe-6397-406c-b3d3-90763e0a2cc5",
   "metadata": {},
   "source": [
    "#### 8. Strong Community Support\n",
    "##### Python has a large and active community ofdevelopers who contribute to a wealth of resources, including tutorials,documentation, and forums. This support can be invaluable for troubleshootingand learning."
   ]
  },
  {
   "cell_type": "markdown",
   "id": "21861628-0aaf-4218-bbf1-a4b2614b2e19",
   "metadata": {},
   "source": [
    "#### 9. Integration Capabilities\n",
    "##### Python can easily integrate with other languages andtechnologies. For example, it can call C/C++ code and interact with Javathrough various interfaces and libraries, making it a good choice for projectsthat involve multiple technologies."
   ]
  },
  {
   "cell_type": "markdown",
   "id": "057df01a-2b13-48c1-bb25-f097f6964ca3",
   "metadata": {},
   "source": [
    "#### 10. Easy to Learn and Use\n",
    "##### Python is often recommended as a first programminglanguage because of its straightforward syntax and ease of learning. This hascontributed to its widespread adoption in educational settings and amongbeginners"
   ]
  },
  {
   "cell_type": "markdown",
   "id": "d9e95041-0aa3-48b6-a128-749aaf2ebdae",
   "metadata": {},
   "source": [
    "#### Q 2:-Describe the role of predefined keywords in python and provide examples of how they are used in a "
   ]
  },
  {
   "cell_type": "markdown",
   "id": "aaff9793-486c-4a69-837e-f1661def99f2",
   "metadata": {},
   "source": [
    "#### Answer:- Keywords in python are predefined words that are not to be used as any other kind of identifiers like for example various name and functions name.The keyword are a part of syntax in the language with a special meaning associated with them. they play a major role in python code by defining its structure and logic. lets take a look on the usage of different types of keywords in python. "
   ]
  },
  {
   "cell_type": "markdown",
   "id": "e2fa57c5-40e3-4bf7-8807-48e93705b963",
   "metadata": {},
   "source": [
    "####  Value Keywords:-\n",
    "##### Value keywords are used to represent specific value in python.\n",
    "#### a). True, False:- They both are used in logical expressions and repersent the boolean value 'True' and 'False'.\n",
    "##### For Example \n"
   ]
  },
  {
   "cell_type": "code",
   "execution_count": 70,
   "id": "bb9d115a-978c-4468-8634-e8de6083c284",
   "metadata": {},
   "outputs": [
    {
     "name": "stdout",
     "output_type": "stream",
     "text": [
      "False\n",
      "True\n"
     ]
    }
   ],
   "source": [
    "a = 5\n",
    "b = 8\n",
    "print(a > b)\n",
    "print(a < b)"
   ]
  },
  {
   "cell_type": "markdown",
   "id": "83fdb528-bc29-46c8-ae0e-c91ceaca0e4b",
   "metadata": {},
   "source": [
    "#### b). None :- It is used to represent that there is no valuse or it is null."
   ]
  },
  {
   "cell_type": "code",
   "execution_count": 75,
   "id": "064bdd5b-79ad-47b8-a70a-284d43ed2527",
   "metadata": {},
   "outputs": [
    {
     "data": {
      "text/plain": [
       "NoneType"
      ]
     },
     "execution_count": 75,
     "metadata": {},
     "output_type": "execute_result"
    }
   ],
   "source": [
    "c = None\n",
    "type(c)"
   ]
  },
  {
   "cell_type": "markdown",
   "id": "10f25b2a-3c59-482f-bad9-b898288a066f",
   "metadata": {},
   "source": [
    "#### Operator Keywords \n",
    "##### The Operator keywords are used to perform logical and comparison operations in a python program."
   ]
  },
  {
   "cell_type": "markdown",
   "id": "c3461d58-324a-4687-bb58-41bf24a09df2",
   "metadata": {},
   "source": [
    "### a). and \n",
    "#### It will return 'True' when both the operands are 'True'.\n",
    "\n"
   ]
  },
  {
   "cell_type": "code",
   "execution_count": 87,
   "id": "0d6c7cac-dfc6-4263-8b65-db93880cd446",
   "metadata": {},
   "outputs": [
    {
     "name": "stdout",
     "output_type": "stream",
     "text": [
      "False\n"
     ]
    }
   ],
   "source": [
    "a = True\n",
    "b = False\n",
    "print(a and b)"
   ]
  },
  {
   "cell_type": "markdown",
   "id": "deda55c5-14b2-4bc0-acf4-07ac55b3b60e",
   "metadata": {},
   "source": [
    "### b). Or"
   ]
  },
  {
   "cell_type": "markdown",
   "id": "45a00f79-e9d8-4e5b-992e-2ce3c7857f66",
   "metadata": {},
   "source": [
    "##### It will return ' True' when atleast one of the operand is True."
   ]
  },
  {
   "cell_type": "code",
   "execution_count": 97,
   "id": "70a350cf-0d79-4d95-b214-58dabeffde09",
   "metadata": {},
   "outputs": [
    {
     "name": "stdout",
     "output_type": "stream",
     "text": [
      "True\n"
     ]
    }
   ],
   "source": [
    "print(a or b)"
   ]
  },
  {
   "cell_type": "markdown",
   "id": "a7909cd5-d6cf-4cbd-9d21-8e34f4d534d6",
   "metadata": {},
   "source": [
    "### c). not"
   ]
  },
  {
   "cell_type": "markdown",
   "id": "af3a1116-4550-4142-9994-42ee3fab1675",
   "metadata": {},
   "source": [
    "##### It will return the opposite of the operand."
   ]
  },
  {
   "cell_type": "code",
   "execution_count": 103,
   "id": "90562f19-ad14-437f-90d9-7a87900ed0d6",
   "metadata": {},
   "outputs": [
    {
     "name": "stdout",
     "output_type": "stream",
     "text": [
      "False\n"
     ]
    }
   ],
   "source": [
    "print(not a)"
   ]
  },
  {
   "cell_type": "markdown",
   "id": "e5edecfc-6c17-4b1c-91d6-6523f802ea6a",
   "metadata": {},
   "source": [
    "### d). in "
   ]
  },
  {
   "cell_type": "markdown",
   "id": "440853ab-2901-443a-a9b8-efc10d4ec1a4",
   "metadata": {},
   "source": [
    "##### It checks that whether a specific value is present in given sequence."
   ]
  },
  {
   "cell_type": "code",
   "execution_count": 109,
   "id": "d5a71404-9a5b-44c5-928b-cd77a11539ce",
   "metadata": {},
   "outputs": [
    {
     "name": "stdout",
     "output_type": "stream",
     "text": [
      "True\n"
     ]
    }
   ],
   "source": [
    "print(5 in [1,2,3,4,5])"
   ]
  },
  {
   "cell_type": "markdown",
   "id": "25606e8a-b40f-4440-b6ac-aa9f474c662c",
   "metadata": {},
   "source": [
    "### e). is"
   ]
  },
  {
   "cell_type": "markdown",
   "id": "a32519e4-c80e-4175-bade-f86d9b17e611",
   "metadata": {},
   "source": [
    "##### It compares the identity of objects."
   ]
  },
  {
   "cell_type": "code",
   "execution_count": 132,
   "id": "7c15ba4f-c91a-4da3-bf49-2e69299d2c75",
   "metadata": {},
   "outputs": [
    {
     "name": "stdout",
     "output_type": "stream",
     "text": [
      "False\n"
     ]
    }
   ],
   "source": [
    "x = [\"Blue\", \"Green\", \"Red\"]\n",
    "\n",
    "y = [\"Blue\", \"Pink\", \"Red\"]\n",
    "\n",
    "print(x is y)"
   ]
  },
  {
   "cell_type": "markdown",
   "id": "677c294a-3312-42ed-b467-9b4d398e0bc8",
   "metadata": {},
   "source": [
    "### Conditional Keywords"
   ]
  },
  {
   "cell_type": "markdown",
   "id": "839fc754-f58e-42ed-bf3b-fd283716ecb6",
   "metadata": {},
   "source": [
    "##### These Keywords are used to execute code blocks with conditional statements.\n",
    "###  a). if\n",
    "##### It will execute the code block if the condition is True\n",
    "### b). elif\n",
    "##### it will execute the alternate code block if the 'if' condition is False\n",
    "### c). else\n",
    "##### it will execute the code block if none of the conditions are True\n",
    "##### for example"
   ]
  },
  {
   "cell_type": "code",
   "execution_count": 144,
   "id": "c2a28354-41a7-4e5f-8294-e11ecb386d31",
   "metadata": {},
   "outputs": [
    {
     "name": "stdout",
     "output_type": "stream",
     "text": [
      "x is greater than 5\n"
     ]
    }
   ],
   "source": [
    "# execution of if block\n",
    "x = 10\n",
    "if x > 5:\n",
    "    print(\"x is greater than 5\")\n",
    "elif x == 5:\n",
    "    print(\"x is equal to 5\")\n",
    "else:\n",
    "    print(\"x is smaller than 5\")"
   ]
  },
  {
   "cell_type": "code",
   "execution_count": 146,
   "id": "0a474a06-41a0-4b16-ab93-fc12b072ad58",
   "metadata": {},
   "outputs": [
    {
     "name": "stdout",
     "output_type": "stream",
     "text": [
      "x is equal to 5\n"
     ]
    }
   ],
   "source": [
    "# execution of elif block\n",
    "x = 5\n",
    "if x > 5:\n",
    "    print(\"x is greater than 5\")\n",
    "elif x == 5:\n",
    "    print(\"x is equal to 5\")\n",
    "else:\n",
    "    print(\"x is smaller than 5\")"
   ]
  },
  {
   "cell_type": "code",
   "execution_count": 148,
   "id": "cd124275-65f9-40e0-912a-c38cf30bc4c6",
   "metadata": {},
   "outputs": [
    {
     "name": "stdout",
     "output_type": "stream",
     "text": [
      "x is smaller than 5\n"
     ]
    }
   ],
   "source": [
    "# execution of else block\n",
    "\n",
    "x = 3\n",
    "if x > 5:\n",
    "    print(\"x is greater than 5\")\n",
    "elif x == 5:\n",
    "    print(\"x is equal to 5\")\n",
    "else:\n",
    "    print(\"x is smaller than 5\")"
   ]
  },
  {
   "cell_type": "markdown",
   "id": "d4a090c1-d778-4966-966a-5535d1f3a35f",
   "metadata": {},
   "source": [
    "### Iteration Keywords"
   ]
  },
  {
   "cell_type": "markdown",
   "id": "a10afe33-c684-448b-b502-e35b070b9958",
   "metadata": {},
   "source": [
    "##### The iteration keywords are used to control loop execution\n",
    "### a). for\n",
    "##### It iterates over the elements of a specific sequence.\n",
    "### b). while\n",
    "##### It will execute a code block as long as the condition is true\n"
   ]
  },
  {
   "cell_type": "code",
   "execution_count": 140,
   "id": "3d80d831-0431-40a8-905a-edbc3813edb6",
   "metadata": {},
   "outputs": [
    {
     "name": "stdout",
     "output_type": "stream",
     "text": [
      "0\n",
      "1\n",
      "2\n",
      " I found you\n",
      "4\n"
     ]
    }
   ],
   "source": [
    "# use of for loop \n",
    "\n",
    "for i in range(5):\n",
    "    if i ==3:\n",
    "        print(\" I found you\")\n",
    "    else:\n",
    "        print(i)"
   ]
  },
  {
   "cell_type": "code",
   "execution_count": 142,
   "id": "11f7466d-45fb-4299-9134-28d924a1314e",
   "metadata": {},
   "outputs": [
    {
     "name": "stdout",
     "output_type": "stream",
     "text": [
      "1\n",
      "2\n"
     ]
    }
   ],
   "source": [
    "# use of while loop \n",
    "\n",
    "i = 1\n",
    "while i < 3:\n",
    "  print(i)\n",
    "  i += 1"
   ]
  },
  {
   "cell_type": "markdown",
   "id": "f49d821d-e273-4cac-918c-9317852e61c4",
   "metadata": {},
   "source": [
    "### flow control keywords"
   ]
  },
  {
   "cell_type": "markdown",
   "id": "da26bba6-feaa-4ed6-9ed3-8ee95e87e707",
   "metadata": {},
   "source": [
    "#### These keywords control the flow of a loop\n",
    "### a). break\n",
    "##### It is used for terminating the loop before complition\n",
    "### b). continue\n",
    "##### It is used for skipping the current iteration and continue withthe next"
   ]
  },
  {
   "cell_type": "code",
   "execution_count": 153,
   "id": "bbe1f9ec-0717-46aa-8ef0-dc40f0c0c84d",
   "metadata": {},
   "outputs": [
    {
     "name": "stdout",
     "output_type": "stream",
     "text": [
      "0\n",
      "1\n",
      "2\n"
     ]
    }
   ],
   "source": [
    "# use of break keyword\n",
    "\n",
    "for i in range(5):\n",
    "    if i ==3: #when i is equal to 3 loop break\n",
    "        break\n",
    "    print(i)\n",
    "else:\n",
    "    print(\"loop complieted successfully\")"
   ]
  },
  {
   "cell_type": "code",
   "execution_count": 155,
   "id": "8a9e7596-5b5a-4c64-a35f-093a0770ce8d",
   "metadata": {},
   "outputs": [
    {
     "name": "stdout",
     "output_type": "stream",
     "text": [
      "1\n",
      "2\n",
      "4\n",
      "5\n",
      "6\n"
     ]
    }
   ],
   "source": [
    "# use of continue keyword\n",
    "\n",
    "i = 0\n",
    "while i < 6:\n",
    "  i += 1\n",
    "  if i == 3:  # here when i value reaches to 3 it skip and continue to next value of i 4.\n",
    "    continue\n",
    "  print(i)"
   ]
  },
  {
   "cell_type": "markdown",
   "id": "84a867f3-bc89-4743-bc41-65b281228960",
   "metadata": {},
   "source": [
    "### Structure keywords\n",
    "##### the structure keywords are used for defining structure of a program.\n",
    "### a). def\n",
    "##### It define a function\n"
   ]
  },
  {
   "cell_type": "code",
   "execution_count": 159,
   "id": "e6ae2bd3-1b7c-4deb-8608-f9bbfc264794",
   "metadata": {},
   "outputs": [
    {
     "name": "stdout",
     "output_type": "stream",
     "text": [
      "start the game\n"
     ]
    }
   ],
   "source": [
    "def game():\n",
    "    print(\"start the game\")\n",
    "\n",
    "game()"
   ]
  },
  {
   "cell_type": "markdown",
   "id": "985076e8-adb4-4faa-bfc4-fcd423660c75",
   "metadata": {},
   "source": [
    "###  b). class\n",
    "##### It define a class"
   ]
  },
  {
   "cell_type": "code",
   "execution_count": 162,
   "id": "36e5bb6a-3ffc-4526-8daa-ca14cc7dfffb",
   "metadata": {},
   "outputs": [],
   "source": [
    "class examclass:\n",
    "    pass"
   ]
  },
  {
   "cell_type": "markdown",
   "id": "12af6a0a-43ec-4323-b25a-15dd34ffbd81",
   "metadata": {},
   "source": [
    "### c). with\n",
    "##### It is used context manager to simplify resourse management\n",
    "### d). as\n",
    "##### It rename or aliases imported modules or objects\n"
   ]
  },
  {
   "cell_type": "markdown",
   "id": "bc6be6c1-d0fa-4920-9193-f05de2e52665",
   "metadata": {},
   "source": [
    "###### use of with and as keywords\n",
    "\n",
    "##### with open ('example.txt', 'r') as file:\n",
    "#####     data = file.read()"
   ]
  },
  {
   "cell_type": "markdown",
   "id": "b3e661cb-4e9e-4fca-b6c6-4d9c71108b4e",
   "metadata": {},
   "source": [
    "### e). pass\n",
    "##### It indicate that no action needs to be taken"
   ]
  },
  {
   "cell_type": "code",
   "execution_count": 177,
   "id": "f5774da0-1fb0-429e-b183-c056c31f39ed",
   "metadata": {},
   "outputs": [],
   "source": [
    "class examclass:\n",
    "    pass"
   ]
  },
  {
   "cell_type": "markdown",
   "id": "fec54bb2-e77f-486e-9238-ae9368751ea2",
   "metadata": {},
   "source": [
    "### f). lambda\n",
    "##### It creates an anonymous function"
   ]
  },
  {
   "cell_type": "code",
   "execution_count": 186,
   "id": "926db30e-5104-45cf-ac2d-bfa65f49a87b",
   "metadata": {},
   "outputs": [
    {
     "name": "stdout",
     "output_type": "stream",
     "text": [
      "10\n"
     ]
    }
   ],
   "source": [
    "lambda_func = lambda x: x + x   # here i create a lambda function with name lambda_func and variable x, in this function i added x into x\n",
    "print(lambda_func(5))          # i call the lanmbda function and give x value as 5"
   ]
  },
  {
   "cell_type": "markdown",
   "id": "4a2bc8ae-0e3f-46cf-811f-567424ed0a10",
   "metadata": {},
   "source": [
    "### Returning Keywords\n",
    "##### The returning keywords are used for returning values from function and generators \n"
   ]
  },
  {
   "cell_type": "markdown",
   "id": "380e7b83-e02f-4ffd-a83a-ff0688cde35d",
   "metadata": {},
   "source": [
    "### a). return\n",
    "##### It will exit the function and return a value asked"
   ]
  },
  {
   "cell_type": "code",
   "execution_count": 194,
   "id": "3eafbb4c-0d7e-47ff-974d-1751da624687",
   "metadata": {},
   "outputs": [
    {
     "data": {
      "text/plain": [
       "45"
      ]
     },
     "execution_count": 194,
     "metadata": {},
     "output_type": "execute_result"
    }
   ],
   "source": [
    "def exam_func():\n",
    "    return 45\n",
    "\n",
    "exam_func()"
   ]
  },
  {
   "cell_type": "markdown",
   "id": "6bcafe87-0410-48cc-8b14-eb1288177409",
   "metadata": {},
   "source": [
    "### b). yield \n",
    "##### It will stop the execution of a function and will return a value to the caller while the state of the function remain contant "
   ]
  },
  {
   "cell_type": "code",
   "execution_count": 199,
   "id": "95dec0bd-e28e-416b-af4b-365b3e46559f",
   "metadata": {},
   "outputs": [
    {
     "name": "stdout",
     "output_type": "stream",
     "text": [
      "[1, 2, 3, 4]\n"
     ]
    }
   ],
   "source": [
    "def gen_func():\n",
    "    yield 1\n",
    "    yield 2\n",
    "    yield 3\n",
    "    yield 4\n",
    "\n",
    "print(list(gen_func()))"
   ]
  },
  {
   "cell_type": "markdown",
   "id": "5b212a91-71a9-4777-ac6d-d532c03f3466",
   "metadata": {},
   "source": [
    "### import keywords\n",
    "##### the import keywords are used for importing symbols and modules in python\n",
    "### a). import\n",
    "##### It will import a whole module\n",
    "### b). from\n",
    "##### It will import specific symbole from modules"
   ]
  },
  {
   "cell_type": "code",
   "execution_count": 204,
   "id": "39b32dc9-c4c1-4211-8740-5a9289554451",
   "metadata": {},
   "outputs": [],
   "source": [
    "# Example of 'import' and 'from' keywords\n",
    "\n",
    "import math\n",
    "from datetime import datetime as dt"
   ]
  },
  {
   "cell_type": "markdown",
   "id": "7cf48b74-e4e6-448c-a8d5-4b9609553b29",
   "metadata": {},
   "source": [
    "### exception Handling keywords\n",
    "##### The exception handling keywords in python are used for handling exceptions in a python program\n",
    "### a). try\n",
    "##### It will start and check a code block that may have an exception butexecute it\n",
    "### b). except\n",
    "##### It is used for checking and handling exception\n",
    "### c). finally\n",
    "##### It will execute a code no matter if any execution occurs or not"
   ]
  },
  {
   "cell_type": "code",
   "execution_count": 217,
   "id": "0e8b79f3-3a64-42ca-8c76-7e090b065dee",
   "metadata": {},
   "outputs": [
    {
     "name": "stdout",
     "output_type": "stream",
     "text": [
      "error: Division by Zero\n",
      "cleanup code\n"
     ]
    }
   ],
   "source": [
    "try:\n",
    "    x = 1/0\n",
    "except ZeroDivisionError:\n",
    "    print(\"error: Division by Zero\")\n",
    "finally:\n",
    "    print(\"cleanup code\")"
   ]
  },
  {
   "cell_type": "markdown",
   "id": "1fb504a9-efb5-44a1-ab3d-9cdcbad41dd8",
   "metadata": {},
   "source": [
    "### d). raise\n",
    "##### It will raise an exception"
   ]
  },
  {
   "cell_type": "code",
   "execution_count": 226,
   "id": "1fec2d38-4813-4af8-bade-748647a281fa",
   "metadata": {},
   "outputs": [
    {
     "ename": "Exception",
     "evalue": "Sorry, no numbers below zero",
     "output_type": "error",
     "traceback": [
      "\u001b[1;31m---------------------------------------------------------------------------\u001b[0m",
      "\u001b[1;31mException\u001b[0m                                 Traceback (most recent call last)",
      "Cell \u001b[1;32mIn[226], line 3\u001b[0m\n\u001b[0;32m      1\u001b[0m x \u001b[38;5;241m=\u001b[39m \u001b[38;5;241m-\u001b[39m\u001b[38;5;241m1\u001b[39m\n\u001b[0;32m      2\u001b[0m \u001b[38;5;28;01mif\u001b[39;00m x \u001b[38;5;241m<\u001b[39m \u001b[38;5;241m0\u001b[39m:\n\u001b[1;32m----> 3\u001b[0m     \u001b[38;5;28;01mraise\u001b[39;00m \u001b[38;5;167;01mException\u001b[39;00m(\u001b[38;5;124m\"\u001b[39m\u001b[38;5;124mSorry, no numbers below zero\u001b[39m\u001b[38;5;124m\"\u001b[39m)\n",
      "\u001b[1;31mException\u001b[0m: Sorry, no numbers below zero"
     ]
    }
   ],
   "source": [
    "x = -1\n",
    "if x < 0:\n",
    "    raise Exception(\"Sorry, no numbers below zero\")"
   ]
  },
  {
   "cell_type": "markdown",
   "id": "8947e924-9539-44f7-aa40-410d2a7da5c3",
   "metadata": {},
   "source": [
    "### e). assert\n",
    "##### When the condition is False an assertionError is raised to assert a condition"
   ]
  },
  {
   "cell_type": "code",
   "execution_count": 234,
   "id": "ece4ce52-b50f-4f77-b370-e62d5171f85a",
   "metadata": {},
   "outputs": [
    {
     "ename": "AssertionError",
     "evalue": "",
     "output_type": "error",
     "traceback": [
      "\u001b[1;31m---------------------------------------------------------------------------\u001b[0m",
      "\u001b[1;31mAssertionError\u001b[0m                            Traceback (most recent call last)",
      "Cell \u001b[1;32mIn[234], line 7\u001b[0m\n\u001b[0;32m      4\u001b[0m \u001b[38;5;28;01massert\u001b[39;00m x \u001b[38;5;241m==\u001b[39m \u001b[38;5;124m\"\u001b[39m\u001b[38;5;124mwelcome\u001b[39m\u001b[38;5;124m\"\u001b[39m\n\u001b[0;32m      6\u001b[0m \u001b[38;5;66;03m#if condition returns False, AssertionError is raised:\u001b[39;00m\n\u001b[1;32m----> 7\u001b[0m \u001b[38;5;28;01massert\u001b[39;00m x \u001b[38;5;241m==\u001b[39m \u001b[38;5;124m\"\u001b[39m\u001b[38;5;124mgoodbye\u001b[39m\u001b[38;5;124m\"\u001b[39m\n",
      "\u001b[1;31mAssertionError\u001b[0m: "
     ]
    }
   ],
   "source": [
    "x = \"welcome\"\n",
    "\n",
    "#if condition returns True, then nothing happens:\n",
    "assert x == \"welcome\"\n",
    "\n",
    "#if condition returns False, AssertionError is raised:\n",
    "assert x == \"goodbye\""
   ]
  },
  {
   "cell_type": "markdown",
   "id": "d344075d-a7fa-42fa-8398-e2e018c4e707",
   "metadata": {},
   "source": [
    "### Asynchronous programming keywords\n",
    "### a). Async\n",
    "##### It is used for defining a coroutine function\n",
    "### b). await \n",
    "##### It will pause the execution of a coroutine function until its own coroutine function completes"
   ]
  },
  {
   "cell_type": "code",
   "execution_count": 260,
   "id": "ed6cb1a3-523a-474f-bfa6-1da6e72be1ae",
   "metadata": {},
   "outputs": [],
   "source": [
    "# example\n",
    "\n",
    "import asyncio\n",
    "\n",
    "async def exam_coroutine():\n",
    "    await asyncio.sleep(1)\n",
    "    print(\"async function execution\")\n",
    "\n",
    "async def main():\n",
    "    await exam_coroutine()\n",
    "\n",
    "asyncio.run(main())"
   ]
  },
  {
   "cell_type": "markdown",
   "id": "105fd298-8973-410e-9d09-462cb831f1c0",
   "metadata": {},
   "source": [
    "### Variable Handling keywords\n",
    "### a). del\n",
    "##### The del keyword is used to delete objects. In Python everything is an object, so the del keyword can also be used to delete variables, lists, or parts of a list etc."
   ]
  },
  {
   "cell_type": "code",
   "execution_count": 279,
   "id": "4657afa5-2db9-4014-830b-10fa76102690",
   "metadata": {},
   "outputs": [
    {
     "ename": "NameError",
     "evalue": "name 'x' is not defined",
     "output_type": "error",
     "traceback": [
      "\u001b[1;31m---------------------------------------------------------------------------\u001b[0m",
      "\u001b[1;31mNameError\u001b[0m                                 Traceback (most recent call last)",
      "Cell \u001b[1;32mIn[279], line 3\u001b[0m\n\u001b[0;32m      1\u001b[0m x \u001b[38;5;241m=\u001b[39m \u001b[38;5;241m10\u001b[39m\n\u001b[0;32m      2\u001b[0m \u001b[38;5;28;01mdel\u001b[39;00m x\n\u001b[1;32m----> 3\u001b[0m x\n",
      "\u001b[1;31mNameError\u001b[0m: name 'x' is not defined"
     ]
    }
   ],
   "source": [
    "x = 10\n",
    "del x\n",
    "x"
   ]
  },
  {
   "cell_type": "markdown",
   "id": "16124d33-b9e0-40a8-8626-2145af15d51e",
   "metadata": {},
   "source": [
    "### b). global\n",
    "##### The global keyword is used to create global variables from a no-global scope."
   ]
  },
  {
   "cell_type": "code",
   "execution_count": 268,
   "id": "18212a11-7a68-4d85-beae-36592170dcb2",
   "metadata": {},
   "outputs": [
    {
     "name": "stdout",
     "output_type": "stream",
     "text": [
      "hello\n"
     ]
    }
   ],
   "source": [
    "\n",
    "def myfunction():\n",
    "  global x        # Declaring x as a global variable\n",
    "  x = \"hello\"\n",
    "\n",
    "#execute the function:\n",
    "myfunction()\n",
    "\n",
    "#x should now be global, and accessible in the global scope.\n",
    "print(x)"
   ]
  },
  {
   "cell_type": "markdown",
   "id": "07c88432-a206-48a6-ba31-cc340e79c7db",
   "metadata": {},
   "source": [
    "### c). nonlocal\n",
    "##### The nonlocal keyword is used to work with variables inside nested functions, where the variable should not belong to the inner function.\n"
   ]
  },
  {
   "cell_type": "code",
   "execution_count": 277,
   "id": "c581e297-7bc4-46bd-a98b-14038bdcb5d4",
   "metadata": {},
   "outputs": [
    {
     "name": "stdout",
     "output_type": "stream",
     "text": [
      "hello\n"
     ]
    }
   ],
   "source": [
    "def myfunc1():\n",
    "  x = \"John\"\n",
    "  def myfunc2():\n",
    "    nonlocal x\n",
    "    x = \"hello\"\n",
    "  myfunc2()\n",
    "  return x\n",
    "\n",
    "print(myfunc1())"
   ]
  },
  {
   "cell_type": "markdown",
   "id": "f1d5163d-439b-4fbb-b4aa-3df4d62b7731",
   "metadata": {},
   "source": [
    "#### Q 3:- Compare and contrast mutable and immutable obects in Python with examples."
   ]
  },
  {
   "cell_type": "markdown",
   "id": "46fac7b9-97c9-4d5b-8d87-af1265e58661",
   "metadata": {},
   "source": [
    "#### Answer:-  In Python, objects can be categorized as either mutable or immutable, depending onwhether their state can be changed after they are created. Understanding thedifference between these two types of objects is crucial for effective programming, as it affects how variables and data are managed in your code. Here’s a detailedcomparison:\n",
    "#### Mutable Objects\n",
    "##### Mutable objects are those whose state or content can be changed aftertheir creation. You can modify the object’s content without changing its identity(i.e., without creating a new object).\n",
    "##### Examples\n",
    "##### Lists, dictionaries, and sets.\n",
    "\n"
   ]
  },
  {
   "cell_type": "code",
   "execution_count": 30,
   "id": "506c8915-4ff3-4064-8f0e-41c6cb4e2e0c",
   "metadata": {},
   "outputs": [
    {
     "name": "stdout",
     "output_type": "stream",
     "text": [
      "[1, 2, 3]\n",
      "[1, 2, 3, 4]\n",
      "[10, 2, 3, 4]\n"
     ]
    }
   ],
   "source": [
    "# 1.Lists\n",
    "\n",
    "my_list = [1,2,3]\n",
    "print(my_list)\n",
    "\n",
    "my_list.append(4)\n",
    "print(my_list)\n",
    "\n",
    "my_list[0] = 10\n",
    "print(my_list)"
   ]
  },
  {
   "cell_type": "code",
   "execution_count": 32,
   "id": "ade393b1-5b66-4ac8-9726-1e0a8053abc7",
   "metadata": {},
   "outputs": [
    {
     "name": "stdout",
     "output_type": "stream",
     "text": [
      "{'a': 1, 'b': 2}\n",
      "{'a': 1, 'b': 2, 'c': 3}\n",
      "{'b': 2, 'c': 3}\n"
     ]
    }
   ],
   "source": [
    "# 2.Dictionaries\n",
    "\n",
    "my_dict = {'a':1,'b':2}\n",
    "print(my_dict)\n",
    "\n",
    "my_dict['c'] =3\n",
    "print(my_dict)\n",
    "\n",
    "del my_dict['a']\n",
    "print(my_dict)"
   ]
  },
  {
   "cell_type": "code",
   "execution_count": 34,
   "id": "b0a286f9-558c-4518-9510-a15060bdd934",
   "metadata": {},
   "outputs": [
    {
     "name": "stdout",
     "output_type": "stream",
     "text": [
      "{1, 2, 3}\n",
      "{1, 2, 3, 4}\n",
      "{1, 3, 4}\n"
     ]
    }
   ],
   "source": [
    "# 3.Sets\n",
    "\n",
    "my_set = {1,2,3}\n",
    "print(my_set)\n",
    "\n",
    "my_set.add(4)\n",
    "print(my_set)\n",
    "\n",
    "my_set.remove(2)\n",
    "print(my_set)"
   ]
  },
  {
   "cell_type": "markdown",
   "id": "a924f396-ad5a-497e-b95f-68c161485c94",
   "metadata": {},
   "source": [
    "#### Immutable Objects\n",
    "\n",
    "##### Immutable objects are those whose state or content cannot be changedafter they are created. Any modification creates a new object. You cannot alter the object’s state or content once it is created.Modifications lead to the creation of a new object.\n",
    "##### Examples\n",
    "##### Integers, floats, strings, and tuples."
   ]
  },
  {
   "cell_type": "code",
   "execution_count": 41,
   "id": "2d2429e7-ab59-4a77-af1c-c06b77bf0f6a",
   "metadata": {},
   "outputs": [
    {
     "name": "stdout",
     "output_type": "stream",
     "text": [
      "11\n",
      "10\n"
     ]
    }
   ],
   "source": [
    "# Integers\n",
    "\n",
    "x = 10\n",
    "y = x\n",
    "x += 1\n",
    "print(x)\n",
    "print(y)"
   ]
  },
  {
   "cell_type": "code",
   "execution_count": 39,
   "id": "227e9ff7-71d5-4235-a1de-87aeacb12fe4",
   "metadata": {},
   "outputs": [
    {
     "name": "stdout",
     "output_type": "stream",
     "text": [
      "6.28\n",
      "3.14\n"
     ]
    }
   ],
   "source": [
    "# Floats\n",
    "\n",
    "a = 3.14\n",
    "b = a\n",
    "a *= 2\n",
    "print(a)\n",
    "print(b)"
   ]
  },
  {
   "cell_type": "code",
   "execution_count": 43,
   "id": "4519edea-7b6c-4761-a138-0789d02823c2",
   "metadata": {},
   "outputs": [
    {
     "name": "stdout",
     "output_type": "stream",
     "text": [
      "hello\n",
      "HELLO\n",
      "hello\n"
     ]
    }
   ],
   "source": [
    "# Strings\n",
    "\n",
    "my_string = \"hello\"\n",
    "print(my_string)\n",
    "\n",
    "new_string = my_string.upper()\n",
    "print(new_string)\n",
    "# \n",
    "print(my_string)\n",
    "# Output: hello (original string remains unchanged)"
   ]
  },
  {
   "cell_type": "code",
   "execution_count": 45,
   "id": "a22d8548-3981-47b3-8073-263eb1d6f3cc",
   "metadata": {},
   "outputs": [
    {
     "name": "stdout",
     "output_type": "stream",
     "text": [
      "(1, 2, 3)\n",
      "(1, 2, 3, 4)\n",
      "(1, 2, 3)\n"
     ]
    }
   ],
   "source": [
    "# Tuples\n",
    "\n",
    "my_tuple = (1,2,3)\n",
    "print(my_tuple)\n",
    "\n",
    "new_tuple = my_tuple + (4,)\n",
    "print(new_tuple)\n",
    "\n",
    "print(my_tuple)\n",
    "# Output: (1, 2, 3) (original tuple remains unchanged)"
   ]
  },
  {
   "cell_type": "markdown",
   "id": "7258e009-8277-40b7-b63c-59c5f05c294c",
   "metadata": {},
   "source": [
    "#### Differences\n",
    "##### Mutability\n",
    "##### Mutable objects can be changed in place, whereas immutable objectscannot be altered once created.\n",
    "##### Mutable objects can be more flexible and efficient for tasks wherefrequent modifications are required.\n",
    "#### performance\n",
    "##### Immutable objects can be simpler and may offer performance benefits inscenarios involving hash-based data structures, like dictionary keys or setelements.\n",
    "#### Use Cases\n",
    "##### Mutable objects are often used when you need to modify the datafrequently (e.g., lists for accumulating results).Immutable objects are preferred when you need to ensure that dataremains constant and unchanged (e.g., strings for consistent identifiers orkeys)."
   ]
  },
  {
   "cell_type": "markdown",
   "id": "02e02ace-75d2-40a6-a0dd-ffe27f713125",
   "metadata": {},
   "source": [
    "#### Q 4:- Discuss the different types of operators in Python and provide examples of how they are used."
   ]
  },
  {
   "cell_type": "markdown",
   "id": "7fd82928-64c4-40ba-a69b-7e12993983fd",
   "metadata": {},
   "source": [
    "#### Answer:- \n",
    "##### In Python, operators are symbols that perform operations on variables and values.Python supports various types of operators, each serving a distinct purpose. Here's acomprehensive overview of the different types of operators and examples of howthey are used:"
   ]
  },
  {
   "cell_type": "markdown",
   "id": "909ba912-c261-4bb3-aa9c-360721eee2db",
   "metadata": {},
   "source": [
    "#### 1. Arithmetic Operators:- Arithmetic operators perform basic mathematical operations."
   ]
  },
  {
   "cell_type": "code",
   "execution_count": 52,
   "id": "9664b552-135b-49d5-8f01-7b410c793a08",
   "metadata": {},
   "outputs": [
    {
     "name": "stdout",
     "output_type": "stream",
     "text": [
      "8\n",
      "2\n",
      "2.5\n",
      "2\n",
      "1\n",
      "125\n"
     ]
    }
   ],
   "source": [
    "# Addition (+) : Adds two operands.\n",
    "\n",
    "x = 5\n",
    "y = 3\n",
    "print(x + y)\n",
    "# Output: 8\n",
    "\n",
    "# Subtraction (-) : Subtracts the second operand from the first.\n",
    "\n",
    "x = 5\n",
    "y = 3\n",
    "print(x - y)\n",
    "# Output: 2\n",
    "\n",
    "# Multiplication (*): Multiplies two operands.\n",
    "\n",
    "x = 5\n",
    "y = 3\n",
    "print\n",
    "(x * y)\n",
    "# Output: 15\n",
    "\n",
    "# Division (/): Divides the first operand by the second and returns a float.\n",
    "\n",
    "x = 5\n",
    "y = 2\n",
    "print(x / y)\n",
    "# Output: 2.5\n",
    "\n",
    "# Floor Division (//): Divides the first operand by the second and returns thelargest integer less than or equal to the result.n\n",
    "x = 5\n",
    "y = 2\n",
    "print(x // y)\n",
    "# Output: 2\n",
    "\n",
    "# Modulus (%): Returns the remainder of the division.\n",
    "\n",
    "x = 5\n",
    "y = 2\n",
    "print(x % y)\n",
    "# Output: 1\n",
    "\n",
    "#Exponentiation (**): Raises the first operand to the power of the secondoperand.\n",
    "\n",
    "x = 5\n",
    "y = 3\n",
    "print (x ** y)\n",
    "# Output: 125"
   ]
  },
  {
   "cell_type": "markdown",
   "id": "3824d5d7-dca5-4f31-9ca1-a1986e39f285",
   "metadata": {},
   "source": [
    "#### 2. Comparison Operators:- Comparison operators are used to compare two values and return a boolean result."
   ]
  },
  {
   "cell_type": "code",
   "execution_count": 55,
   "id": "b9f26056-fcca-48c9-8fb0-b451fbac82d4",
   "metadata": {},
   "outputs": [
    {
     "name": "stdout",
     "output_type": "stream",
     "text": [
      "True\n",
      "True\n",
      "True\n",
      "True\n",
      "True\n",
      "True\n"
     ]
    }
   ],
   "source": [
    "# Equal to (==): Checks if two values are equal.\n",
    "\n",
    "x = 5\n",
    "y = 5\n",
    "print(x == y)\n",
    "# Output: True\n",
    "\n",
    "# Not equal to (!=): Checks if two values are not equal.\n",
    "\n",
    "x = 5\n",
    "y = 3\n",
    "print(x != y)\n",
    "# Output: True\n",
    "\n",
    "# Greater than (>): Checks if the first value is greater than the second.\n",
    "\n",
    "x = 5\n",
    "y = 3\n",
    "print(x > y)\n",
    "# Output: True\n",
    "\n",
    "# Less than (<): Checks if the first value is less than the second.\n",
    "\n",
    "x = 5\n",
    "y = 7\n",
    "print(x < y)\n",
    "# Output: True\n",
    "\n",
    "# Greater than or equal to (>=): Checks if the first value is greater than or equalto the second.\n",
    "\n",
    "x = 5\n",
    "y = 5\n",
    "print(x >= y)\n",
    "# Output: True\n",
    "\n",
    "# Less than or equal to (<=): Checks if the first value is less than or equal to thesecond.\n",
    "\n",
    "x = 5\n",
    "y = 6\n",
    "print(x <= y)\n",
    "# Output: True"
   ]
  },
  {
   "cell_type": "markdown",
   "id": "6a1033bd-27c9-41a9-be2e-2df3c7b0d104",
   "metadata": {},
   "source": [
    "#### 3. Logical Operators :-Logical operators are used to combine conditional statements."
   ]
  },
  {
   "cell_type": "code",
   "execution_count": 59,
   "id": "1c7707e5-0c7f-47b9-8b7b-03715cdb170b",
   "metadata": {},
   "outputs": [
    {
     "name": "stdout",
     "output_type": "stream",
     "text": [
      "False\n",
      "True\n",
      "False\n"
     ]
    }
   ],
   "source": [
    "# Logical AND (and): Returns True if both operands are true.\n",
    "\n",
    "x = True\n",
    "y = False\n",
    "print(x and y)\n",
    "# Output: False\n",
    "\n",
    "# Logical OR (or): Returns True if at least one of the operands is true.\n",
    "\n",
    "x = True\n",
    "y = False\n",
    "print(x or y)\n",
    "# Output: True\n",
    "\n",
    "# Logical NOT (not): Returns the opposite boolean value.\n",
    "\n",
    "x = True\n",
    "print(not x)\n",
    "# Output: False"
   ]
  },
  {
   "cell_type": "markdown",
   "id": "c00aa2ef-0ba4-46af-96a8-e830f81441d2",
   "metadata": {},
   "source": [
    "#### 4. Assignment Operators:- Assignment operators are used to assign values to variables and may also performoperations in conjunction with assignment."
   ]
  },
  {
   "cell_type": "code",
   "execution_count": 62,
   "id": "c8b6473e-1d27-4e8f-9b45-d19b532042eb",
   "metadata": {},
   "outputs": [
    {
     "name": "stdout",
     "output_type": "stream",
     "text": [
      "8\n",
      "3\n",
      "20\n",
      "5.0\n",
      "1\n",
      "8\n"
     ]
    }
   ],
   "source": [
    "# Assignment (=): Assigns a value to a variable.\n",
    "\n",
    "x = 5\n",
    "\n",
    "# Add and assign (+=): Adds a value to a variable and assigns the result.\n",
    "\n",
    "x = 5\n",
    "x += 3\n",
    "print(x)\n",
    "# Output: 8\n",
    "\n",
    "# Subtract and assign (-=): Subtracts a value from a variable and assigns theresult.\n",
    "\n",
    "x = 5\n",
    "x -= 2\n",
    "print(x)\n",
    "# Output: 3\n",
    "\n",
    "# Multiply and assign (*=): Multiplies a variable by a value and assigns theresult.\n",
    "\n",
    "x = 5\n",
    "x *= 4\n",
    "print(x)\n",
    "# Output: 20\n",
    "\n",
    "# Divide and assign (/=): Divides a variable by a value and assigns the result.\n",
    "\n",
    "x = 10\n",
    "x /= 2\n",
    "print(x)\n",
    "# Output: 5.0\n",
    "\n",
    "# Modulus and assign (%=): Applies modulus and assigns the result.\n",
    "\n",
    "x = 10\n",
    "x %= 3\n",
    "print(x)\n",
    "# Output: 1\n",
    "\n",
    "# Exponentiate and assign (**=): Raises a variable to the power of a value andassigns the result.\n",
    "\n",
    "x = 2\n",
    "x **= 3\n",
    "print(x)\n",
    "# Output: 8"
   ]
  },
  {
   "cell_type": "markdown",
   "id": "834d702e-7893-48a9-adf6-a6f8351b287c",
   "metadata": {},
   "source": [
    "#### 5. Bitwise Operators:- Bitwise operators perform operations on the binary representations of integers."
   ]
  },
  {
   "cell_type": "code",
   "execution_count": 65,
   "id": "0abe846c-64a3-4696-b1f9-1cb043a51c47",
   "metadata": {},
   "outputs": [
    {
     "name": "stdout",
     "output_type": "stream",
     "text": [
      "1\n",
      "7\n",
      "6\n",
      "-6\n",
      "10\n",
      "2\n"
     ]
    }
   ],
   "source": [
    "# Bitwise AND (&): Performs a binary AND operation.\n",
    "\n",
    "x = 5\n",
    "# 0101 in binary\n",
    "y = 3\n",
    "# 0011 in binary\n",
    "print(x & y)\n",
    "# Output: 1 (0001 in binary)\n",
    "\n",
    "# Bitwise OR (|): Performs a binary OR operation.\n",
    "\n",
    "x = 5\n",
    "# 0101 in binary\n",
    "y = 3\n",
    "# 0011 in binary\n",
    "print(x | y)\n",
    "# Output: 7 (0111 in binary)\n",
    "\n",
    "# Bitwise XOR (^): Performs a binary XOR operation.\n",
    "\n",
    "x = 5\n",
    "# 0101 in binary\n",
    "y = 3\n",
    "# 0011 in binary\n",
    "print(x ^ y)\n",
    "# Output: 6 (0110 in binary)\n",
    "\n",
    "# Bitwise NOT (~): Inverts the bits of the operand.\n",
    "\n",
    "x = 5\n",
    "# 0101 in binary\n",
    "print(~x)\n",
    "# Output: -6 (inverted bits)\n",
    "\n",
    "# Left Shift (<<): Shifts bits to the left.\n",
    "\n",
    "x = 5\n",
    "# 0101 in binary\n",
    "print(x <<1)\n",
    "# Output: 10 (1010 in binary)\n",
    "\n",
    "# Right Shift (>>): Shifts bits to the right.\n",
    "\n",
    "x = 5\n",
    "# 0101 in binary\n",
    "print(x >>1)\n",
    "# Output: 2 (0010 in binary)"
   ]
  },
  {
   "cell_type": "markdown",
   "id": "5b04219c-4ef3-4cae-906d-36768c0e17eb",
   "metadata": {},
   "source": [
    "#### 6. Membership Operators:- Membership operators test if a value or variable is in a sequence (like a list, tuple, orstring)."
   ]
  },
  {
   "cell_type": "code",
   "execution_count": 72,
   "id": "58abc8b4-cba9-408d-ba4a-7318ad4a7c7e",
   "metadata": {},
   "outputs": [
    {
     "name": "stdout",
     "output_type": "stream",
     "text": [
      "True\n",
      "True\n"
     ]
    }
   ],
   "source": [
    "# In (in): Returns True if the value is found in the sequence.\n",
    "\n",
    "my_list = [1,2,3]\n",
    "print(2 in my_list)\n",
    "#output return True\n",
    "\n",
    "# Not in (not in): Returns True if the value is not found in the sequence.\n",
    "\n",
    "my_list = [1,2,3]\n",
    "print(4 not in my_list)\n",
    "# Output: True\n"
   ]
  },
  {
   "cell_type": "markdown",
   "id": "3d8d8788-cd7b-4c23-8a33-f1e211881545",
   "metadata": {},
   "source": [
    "#### 7. Identity Operators:- Identity operators compare the memory locations of two objects."
   ]
  },
  {
   "cell_type": "code",
   "execution_count": 75,
   "id": "9a1414a3-cecd-4736-a326-a3d8a60b3d3e",
   "metadata": {},
   "outputs": [
    {
     "name": "stdout",
     "output_type": "stream",
     "text": [
      "True\n",
      "True\n"
     ]
    }
   ],
   "source": [
    "# Is (is): Returns True if both variables point to the same object in memory.\n",
    "\n",
    "x = [1,2,3]\n",
    "y = x \n",
    "print(x is y)\n",
    "# Output: True\n",
    "\n",
    "# Is not ( is not ): Returns True if both variables point to different objects inmemory.\n",
    "\n",
    "x = [1,2,3]\n",
    "y = [1,2,3]\n",
    "print(x is not y)\n",
    "# Output: True"
   ]
  },
  {
   "cell_type": "markdown",
   "id": "3f5b5e8d-7763-4551-bf61-5ffcf158e85a",
   "metadata": {},
   "source": [
    "#### Q 5:- explain the concept of type casting in Python with example."
   ]
  },
  {
   "cell_type": "markdown",
   "id": "f608ed34-9c02-4d98-b7bb-7202cb36cbe9",
   "metadata": {},
   "source": [
    "#### Answer:- Type casting in Python refers to the process of converting a variable from one datatype to another. This is often necessary when performing operations that requirespecific data types or when you need to ensure consistency in data handling. Pythonprovides built-in functions to perform type casting, and these conversions can beimplicit or explicit.\n",
    "#### Implicit Type Casting\n",
    "##### Implicit type casting, also known as automatic type conversion, occurs when Pythonautomatically converts one data type to another. This usually happens whenperforming operations between different data types where one type can be safelyconverted to another without explicit instruction."
   ]
  },
  {
   "cell_type": "code",
   "execution_count": 79,
   "id": "4870c89d-c548-4a0b-872b-bd9b721b28cf",
   "metadata": {},
   "outputs": [
    {
     "name": "stdout",
     "output_type": "stream",
     "text": [
      "7.5\n"
     ]
    }
   ],
   "source": [
    "# Example\n",
    "\n",
    "x = 5\n",
    "# Integer\n",
    "y = 2.5\n",
    "# Float\n",
    "result = x + y\n",
    "# Implicitly converts 'x' to float and performs the addition\n",
    "print(result)\n",
    "# Output: 7.5\n",
    "\n",
    "# In this example, Python automatically converts the integer x to a float so that it canbe added to y. The result is a float."
   ]
  },
  {
   "cell_type": "markdown",
   "id": "4e99f31f-e55a-40b3-a840-1ee279869e4a",
   "metadata": {},
   "source": [
    "#### Explicit Type Casting\n",
    "##### Explicit type casting, also known as type conversion, is done manually by using built-in functions to convert data from one type to another. This allows you to specifyexactly how you want to handle the conversion.\n",
    "#### Common Type Casting Functions\n",
    "##### 1.int(): Converts a value to an integer.\n",
    "##### 2.float(): Converts a value to a float.\n",
    "##### 3.str(): Converts a value to a string.\n",
    "##### 4.list(): Converts a value to a list.\n",
    "##### 5.tuple(): Converts a value to a tuple.\n",
    "##### 6.set(): Converts a value to a set."
   ]
  },
  {
   "cell_type": "code",
   "execution_count": 84,
   "id": "8145fc89-c297-4c2c-b3cd-81ba4f12d4cc",
   "metadata": {},
   "outputs": [
    {
     "name": "stdout",
     "output_type": "stream",
     "text": [
      "10\n",
      "5.0\n",
      "123\n",
      "456\n",
      "['h', 'e', 'l', 'l', 'o']\n",
      "(1, 2, 3)\n"
     ]
    }
   ],
   "source": [
    "# 1.Converting from float to int:\n",
    "\n",
    "num =10.75\n",
    "num_int = int(num) # Converts float to integer (truncates the decimal part)\n",
    "print(num_int)\n",
    "# Output: 10\n",
    "\n",
    "# 2.Converting from int to float:\n",
    "\n",
    "num = 5\n",
    "num_float = float(num) # Converts integer to float\n",
    "print(num_float)\n",
    "# Output: 5.0\n",
    "\n",
    "# 3.Converting from in to str:\n",
    "\n",
    "num = 123\n",
    "num_str = str(num) # Converts integer to string\n",
    "print(num_str)\n",
    "# Output: '123'\n",
    "\n",
    "# 4.Converting from str to int:\n",
    "\n",
    "num_str = '456'\n",
    "num = int(num_str) # Converts string to integer\n",
    "print(num)\n",
    "# Output: 456\n",
    "\n",
    "# 5.Converting a string to a list of characters:\n",
    "\n",
    "text = \"hello\"\n",
    "char_list = list(text) # Converts string to list of characters\n",
    "print(char_list)\n",
    "# Output: ['h', 'e', 'l', 'l', 'o']\n",
    "\n",
    "# 6.Converting a list to a tuple:\n",
    "\n",
    "my_list = [1,2,3]\n",
    "my_tuple = tuple(my_list) # Converts list to tuple\n",
    "print(my_tuple)\n",
    "# Output: (1, 2, 3)"
   ]
  },
  {
   "cell_type": "markdown",
   "id": "25324afa-113b-4eeb-b5be-3bbc284886cd",
   "metadata": {},
   "source": [
    "#### Q 6:- How do conditional statements work in Python? Illustrate with examples"
   ]
  },
  {
   "cell_type": "markdown",
   "id": "b78422c3-6359-4adb-9208-d1335053294e",
   "metadata": {},
   "source": [
    "#### Answer:- Conditional statements in Python allow you to execute specific blocks of code basedon certain conditions. They are fundamental to controlling the flow of a program andare used to make decisions. The primary conditional statements in Python are if, elif, and else. Here’s a detailed explanation of how they work, along with examples."
   ]
  },
  {
   "cell_type": "markdown",
   "id": "5c2ac71e-0c8e-4706-83b7-db8db0dd4a7f",
   "metadata": {},
   "source": [
    "##### 1. The if Statement:-  The if statement evaluates a condition (an expression that returns True or False). If the condition is True, the block of code inside the if statement is executed"
   ]
  },
  {
   "cell_type": "code",
   "execution_count": 97,
   "id": "133ba18b-9109-4a78-ae92-0f30408e94fe",
   "metadata": {},
   "outputs": [
    {
     "name": "stdout",
     "output_type": "stream",
     "text": [
      "You are an adult.\n"
     ]
    }
   ],
   "source": [
    "# if condition:  code to execute if condition is True\n",
    "# Example\n",
    "\n",
    "age = 20\n",
    "if age >= 18:\n",
    "    print(\"You are an adult.\")    \n"
   ]
  },
  {
   "cell_type": "markdown",
   "id": "575e0235-a471-4617-a20d-50e31e0f18fb",
   "metadata": {},
   "source": [
    "###### In this example, since age is 20, which is greater than or equal to 18 , the condition age >= 18 evaluates to True ,so the message \"You are an adult.\" is printed."
   ]
  },
  {
   "cell_type": "markdown",
   "id": "90b803d1-35b2-4d83-b96d-37f682c5db86",
   "metadata": {},
   "source": [
    "##### 2. The elif Statement:-\n",
    "##### The elif (short for \"else if\") statement allows you to check multiple conditions. It isused when you have more than two conditions to evaluate. It follows an if statementand is only evaluated if the if condition is False.\n"
   ]
  },
  {
   "cell_type": "code",
   "execution_count": 104,
   "id": "ebfa36ee-6ff7-4e8f-bb58-81209cdc4cc9",
   "metadata": {},
   "outputs": [
    {
     "name": "stdout",
     "output_type": "stream",
     "text": [
      "You are a teenager.\n"
     ]
    }
   ],
   "source": [
    "# if condition 1:\n",
    "# code to execute if condition1 is True\n",
    "# elif condition2:\n",
    "# code to execute if condition2 is True\n",
    "\n",
    "# Example\n",
    "\n",
    "age = 16\n",
    "if age >= 18:\n",
    "    print(\"You are an adult.\")\n",
    "elif age >= 13:\n",
    "    print(\"You are a teenager.\")\n",
    "else:\n",
    "    print(\"You are a child.\")\n"
   ]
  },
  {
   "cell_type": "markdown",
   "id": "95c9c3e5-cb60-483c-960e-108faa0d08d7",
   "metadata": {},
   "source": [
    "###### In this example, since age is 16, the first condition age >= 18 is False, so Python checks the elif condition age >= 13, which is True.Therefore, the message \"You are a teenager.\" is printed."
   ]
  },
  {
   "cell_type": "markdown",
   "id": "b3e0e168-e817-4d5d-ae8b-660a1d9897ec",
   "metadata": {},
   "source": [
    "#### 3. The else Statement:- \n",
    "##### The else statement is used as a catch-all for any condition that doesn’t meet the if or elif conditions. It is optional and comes after all if and elif conditions."
   ]
  },
  {
   "cell_type": "code",
   "execution_count": 107,
   "id": "00e8ecf9-0fa1-4fff-b8d4-034817e8ef01",
   "metadata": {},
   "outputs": [
    {
     "name": "stdout",
     "output_type": "stream",
     "text": [
      "You are a child.\n"
     ]
    }
   ],
   "source": [
    "# Example\n",
    "\n",
    "age = 10\n",
    "if age >= 18:\n",
    "    print(\"You are an adult.\")\n",
    "elif age >= 13:\n",
    "    print(\"You are a teenager.\")\n",
    "else:\n",
    "    print(\"You are a child.\")"
   ]
  },
  {
   "cell_type": "markdown",
   "id": "ddb19a10-f69e-46d3-97e3-51ecfe3d99a2",
   "metadata": {},
   "source": [
    "##### In this example, since age is 10, both the if and elif conditions are False.Therefore, the else block executes, and the message \"You are a child.\" is printed"
   ]
  },
  {
   "cell_type": "markdown",
   "id": "117a10a2-1507-42b1-9473-504bd3285b5b",
   "metadata": {},
   "source": [
    "#### 4. Nested Conditional Statements:- Conditional statements can be nested within each other. This means you can havean if statement inside another if, elif, or else block."
   ]
  },
  {
   "cell_type": "code",
   "execution_count": 112,
   "id": "f8ec8522-51d3-4ccc-adc2-666c1fa44336",
   "metadata": {},
   "outputs": [
    {
     "name": "stdout",
     "output_type": "stream",
     "text": [
      "You can enter the movie.\n"
     ]
    }
   ],
   "source": [
    "# Example \n",
    "age = 25\n",
    "has_ticket = True\n",
    "if age >= 18:\n",
    "    if has_ticket:\n",
    "        print(\"You can enter the movie.\")\n",
    "    else:\n",
    "        print(\"You need a ticket to enter.\")\n",
    "else:\n",
    "    print(\"You are too young to enter.\")"
   ]
  },
  {
   "cell_type": "markdown",
   "id": "9449d99e-783c-4d1f-8711-d306cee77730",
   "metadata": {},
   "source": [
    "##### In this example, the outer if checks if age is 18 or older. If True, it then checks if has_ticket is True.Depending on these conditions, it prints the appropriate message."
   ]
  },
  {
   "cell_type": "markdown",
   "id": "7dfa1cf6-1c10-40e6-8e6a-fc44f6ac74cd",
   "metadata": {},
   "source": [
    "#### Q 7:- Describe the different types of loops in Python and their use cases with examples."
   ]
  },
  {
   "cell_type": "markdown",
   "id": "3a746f4f-03f8-4b5e-aaa6-b32a651d2288",
   "metadata": {},
   "source": [
    "#### Answer:-  In Python, loops are used to repeatedly execute a block of code as long as aspecified condition is met. Python provides several types of loops to cater to differentscenarios. Here’s a detailed description of the main types of loops in Python, alongwith their use cases and examples.\n",
    "#### 1.for Loop:- \n",
    "##### The for loop in Python iterates over a sequence (like a list, tuple, dictionary, set, orstring) or any iterable object. It is commonly used when you want to execute a blockof code a specific number of times or when you need to access each item in acollection."
   ]
  },
  {
   "cell_type": "code",
   "execution_count": 123,
   "id": "a6645f52-9ebc-4892-b066-8a77be7ec86d",
   "metadata": {},
   "outputs": [
    {
     "name": "stdout",
     "output_type": "stream",
     "text": [
      "apple\n",
      "banana\n",
      "cherry\n"
     ]
    }
   ],
   "source": [
    "# Examples: Iterating Over a List\n",
    "\n",
    "fruits = ['apple','banana','cherry']\n",
    "for fruit in fruits:\n",
    "    print(fruit)"
   ]
  },
  {
   "cell_type": "code",
   "execution_count": 121,
   "id": "93cb2c51-1c7c-4590-a777-d8f6c2ac06dc",
   "metadata": {},
   "outputs": [
    {
     "name": "stdout",
     "output_type": "stream",
     "text": [
      "0\n",
      "1\n",
      "2\n",
      "3\n",
      "4\n"
     ]
    }
   ],
   "source": [
    "# Using range() for Iteration\n",
    "\n",
    "for i in range(5):\n",
    "    print(i)"
   ]
  },
  {
   "cell_type": "markdown",
   "id": "19cb8955-97a7-4134-ada3-f0253eeaa1f0",
   "metadata": {},
   "source": [
    "##### range(start, stop, step) generates a sequence of numbers from start to stop-1 with a specified step"
   ]
  },
  {
   "cell_type": "markdown",
   "id": "94345432-c12e-4c05-99e2-aee33dd86620",
   "metadata": {},
   "source": [
    "#### Iterating Over a Dictionary:"
   ]
  },
  {
   "cell_type": "code",
   "execution_count": 128,
   "id": "034e515b-5f49-453e-a780-1d2d21f21fe1",
   "metadata": {},
   "outputs": [
    {
     "name": "stdout",
     "output_type": "stream",
     "text": [
      "Alice:85\n",
      "Bob:92\n",
      "Charlie:78\n"
     ]
    }
   ],
   "source": [
    "student_scores = {'Alice':85,'Bob':92,'Charlie':78}\n",
    "for student, score in student_scores.items():\n",
    "    print(f\"{student}:{score}\")"
   ]
  },
  {
   "cell_type": "markdown",
   "id": "4afb46f6-22bc-4b8b-93b2-f989bea41d34",
   "metadata": {},
   "source": [
    "#### while Loop:- \n",
    "##### The while loop repeatedly executes a block of code as long as a specified condition isTrue. It is useful when you don’t know in advance how many times you need toexecute the loop."
   ]
  },
  {
   "cell_type": "code",
   "execution_count": 132,
   "id": "0dd8d401-49ef-4ed1-bdf8-aaa90f4b7983",
   "metadata": {},
   "outputs": [
    {
     "name": "stdout",
     "output_type": "stream",
     "text": [
      "0\n",
      "1\n",
      "2\n",
      "3\n",
      "4\n"
     ]
    }
   ],
   "source": [
    "# Basic while Loop:\n",
    "\n",
    "count = 0\n",
    "while count <5:\n",
    "    print(count)\n",
    "    count +=1"
   ]
  },
  {
   "cell_type": "markdown",
   "id": "fc454cda-af49-4ed4-8b2b-8ff254451dd9",
   "metadata": {},
   "source": [
    "##### Using a while Loop with User Input:"
   ]
  },
  {
   "cell_type": "code",
   "execution_count": 139,
   "id": "7b718c8b-7c27-4692-ba91-379530ab207d",
   "metadata": {},
   "outputs": [
    {
     "name": "stdin",
     "output_type": "stream",
     "text": [
      "Enter 'exit' to quit:  exit\n"
     ]
    }
   ],
   "source": [
    "while True:\n",
    "    user_input = input(\"Enter 'exit' to quit: \")\n",
    "    if user_input =='exit':\n",
    "        break"
   ]
  },
  {
   "cell_type": "markdown",
   "id": "ca12861f-d8a6-4d98-9935-02a75e506f3c",
   "metadata": {},
   "source": [
    "#### nested Loops\n",
    "##### Nested loops are loops within loops. They are used when you need to perform multiple iterations over a multi-dimensional data structure (e.g., matrices or grids)."
   ]
  },
  {
   "cell_type": "code",
   "execution_count": 142,
   "id": "4c480e31-0f62-40e5-a5df-c7adb0f2206b",
   "metadata": {},
   "outputs": [
    {
     "name": "stdout",
     "output_type": "stream",
     "text": [
      "i =0, j =0\n",
      "i =0, j =1\n",
      "i =0, j =2\n",
      "i =1, j =0\n",
      "i =1, j =1\n",
      "i =1, j =2\n",
      "i =2, j =0\n",
      "i =2, j =1\n",
      "i =2, j =2\n"
     ]
    }
   ],
   "source": [
    "for i in range(3):\n",
    "    for j in range(3):\n",
    "        print(f\"i ={i}, j ={j}\")"
   ]
  },
  {
   "cell_type": "code",
   "execution_count": 144,
   "id": "b87d0afd-e4b7-4cda-98db-6852c2f0905f",
   "metadata": {},
   "outputs": [
    {
     "name": "stdout",
     "output_type": "stream",
     "text": [
      "i =0, j =0\n",
      "i =1, j =1\n",
      "i =2, j =2\n"
     ]
    }
   ],
   "source": [
    "# Nested while Loops:\n",
    "\n",
    "i = 0\n",
    "while i <3:\n",
    "    j =0\n",
    "    while j  <3:\n",
    "        print(f\"i ={i}, j ={j}\")\n",
    "        j += 1\n",
    "        i += 1"
   ]
  },
  {
   "cell_type": "markdown",
   "id": "dff4b99d-e789-4f24-83aa-ef6b582c14c4",
   "metadata": {},
   "source": [
    "#### Control Statements in Loops\n",
    "##### Python provides several control statements to manage the flow of loops:"
   ]
  },
  {
   "cell_type": "markdown",
   "id": "4f875c47-3d35-4211-ac46-31641d825527",
   "metadata": {},
   "source": [
    "#####  break: Exits the loop immediately, skipping the rest of the code inside the loop."
   ]
  },
  {
   "cell_type": "code",
   "execution_count": 147,
   "id": "b39f384e-4c5e-4a91-a381-b130ab5f8278",
   "metadata": {},
   "outputs": [
    {
     "name": "stdout",
     "output_type": "stream",
     "text": [
      "0\n",
      "1\n",
      "2\n",
      "3\n",
      "4\n"
     ]
    }
   ],
   "source": [
    "# Example\n",
    "\n",
    "for i in range(10):\n",
    "    if i == 5:\n",
    "        break\n",
    "    print(i)"
   ]
  },
  {
   "cell_type": "markdown",
   "id": "6b25877a-102e-482b-ad7c-4746cc045c15",
   "metadata": {},
   "source": [
    "##### continue: Skips the current iteration and proceeds to the next iteration of the loop."
   ]
  },
  {
   "cell_type": "code",
   "execution_count": 152,
   "id": "433b4df3-0a9a-41df-ba1e-2c4ed5a5fe5b",
   "metadata": {},
   "outputs": [
    {
     "name": "stdout",
     "output_type": "stream",
     "text": [
      "1\n",
      "3\n",
      "5\n",
      "7\n",
      "9\n"
     ]
    }
   ],
   "source": [
    "for i in range(10):\n",
    "    if i %2 == 0:\n",
    "        continue\n",
    "    print(i)"
   ]
  },
  {
   "cell_type": "markdown",
   "id": "d625ea7d-7342-4867-a56e-021e0b77f725",
   "metadata": {},
   "source": [
    "##### pass: A placeholder that does nothing. It is used when a statement is required syntactically but you do not want any code to execute."
   ]
  },
  {
   "cell_type": "code",
   "execution_count": 155,
   "id": "54a53e47-acb3-4ce2-b182-4574bbc7bcdd",
   "metadata": {},
   "outputs": [
    {
     "name": "stdout",
     "output_type": "stream",
     "text": [
      "0\n",
      "1\n",
      "3\n",
      "4\n"
     ]
    }
   ],
   "source": [
    "for i in range(5):\n",
    "    if i == 2:\n",
    "        pass\n",
    "# Placeholder for future code\n",
    "    else:\n",
    "        print(i)"
   ]
  },
  {
   "cell_type": "markdown",
   "id": "3c28566b-968e-41e0-8f14-3e46ac34f80d",
   "metadata": {},
   "source": [
    "#### Use Cases\n",
    "##### for Loop: Ideal for iterating over sequences and collections where the numberof iterations is known or determined by the length of the sequence.\n",
    "##### while Loop: Suitable for scenarios where the number of iterations is not knownin advance and depends on dynamic conditions.\n",
    "##### Nested Loops: Useful for complex data structures such as multi-dimensionalarrays, matrices, or scenarios where multiple levels of iteration are required."
   ]
  },
  {
   "cell_type": "code",
   "execution_count": null,
   "id": "30aa3ab2-591a-42a4-ad7c-c5953b012c1b",
   "metadata": {},
   "outputs": [],
   "source": []
  }
 ],
 "metadata": {
  "kernelspec": {
   "display_name": "Python 3 (ipykernel)",
   "language": "python",
   "name": "python3"
  },
  "language_info": {
   "codemirror_mode": {
    "name": "ipython",
    "version": 3
   },
   "file_extension": ".py",
   "mimetype": "text/x-python",
   "name": "python",
   "nbconvert_exporter": "python",
   "pygments_lexer": "ipython3",
   "version": "3.11.7"
  }
 },
 "nbformat": 4,
 "nbformat_minor": 5
}
